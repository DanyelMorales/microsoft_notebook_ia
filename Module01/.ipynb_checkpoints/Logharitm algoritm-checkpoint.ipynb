{
 "cells": [
  {
   "cell_type": "markdown",
   "metadata": {},
   "source": [
    "Pequeño encriptador"
   ]
  },
  {
   "cell_type": "code",
   "execution_count": 48,
   "metadata": {},
   "outputs": [
    {
     "name": "stdout",
     "output_type": "stream",
     "text": [
      "b'M0AzNTAyMTk4NTkwNzA1NDZAIyMjM0AzOTcyMDc5MzMxNzUwNTNAIyMjM0AzNzc0NDM3NTEwODE3MzQ2QCMjIzNAMjk5OTU2NDIxMDkzNTY0QA=='\n"
     ]
    }
   ],
   "source": [
    "import math\n",
    "import base64 \n",
    "import functools\n",
    "text=\"hola\";\n",
    "base=len(text);\n",
    "acum=[];\n",
    "for x in text:\n",
    "   mychr=math.log(ord(x), base);\n",
    "   encoded=str(mychr);\n",
    "   enc2=\"\";\n",
    "   for y in encoded.split('.')   : \n",
    "       enc2 += y + \"@\"\n",
    "   acum.append(enc2);\n",
    "b64encoded=base64.b64encode(functools.reduce(lambda x,y: x+\"###\"+y, acum).encode('ascii'))\n",
    "print(b64encoded);\n"
   ]
  },
  {
   "cell_type": "code",
   "execution_count": null,
   "metadata": {},
   "outputs": [],
   "source": []
  }
 ],
 "metadata": {
  "kernelspec": {
   "display_name": "Python 3",
   "language": "python",
   "name": "python3"
  },
  "language_info": {
   "codemirror_mode": {
    "name": "ipython",
    "version": 3
   },
   "file_extension": ".py",
   "mimetype": "text/x-python",
   "name": "python",
   "nbconvert_exporter": "python",
   "pygments_lexer": "ipython3",
   "version": "3.6.4"
  }
 },
 "nbformat": 4,
 "nbformat_minor": 2
}
